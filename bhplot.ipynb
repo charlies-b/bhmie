{
 "cells": [
  {
   "cell_type": "code",
   "execution_count": 2,
   "id": "4fe0a15e",
   "metadata": {},
   "outputs": [],
   "source": [
    "from bhmie import bhmie\n",
    "from math import pi, log\n",
    "import matplotlib.pyplot as plt\n",
    "import numpy as np"
   ]
  },
  {
   "cell_type": "code",
   "execution_count": 3,
   "id": "0e24281b",
   "metadata": {},
   "outputs": [
    {
     "data": {
      "text/plain": [
       "<function bhmie.bhmie(x, refrel, nang)>"
      ]
     },
     "execution_count": 3,
     "metadata": {},
     "output_type": "execute_result"
    }
   ],
   "source": [
    "bhmie"
   ]
  },
  {
   "cell_type": "code",
   "execution_count": 4,
   "id": "b88386c2",
   "metadata": {},
   "outputs": [
    {
     "data": {
      "text/plain": [
       "(1.33+1e-08j)"
      ]
     },
     "execution_count": 4,
     "metadata": {},
     "output_type": "execute_result"
    }
   ],
   "source": [
    "refrel = complex(1.33, 10**-8) # water/air \n",
    "radius = 0.263 # um\n",
    "wavelength = 550 # nm\n",
    "refrel"
   ]
  },
  {
   "cell_type": "code",
   "execution_count": 5,
   "id": "cefe1a8e",
   "metadata": {},
   "outputs": [
    {
     "data": {
      "text/plain": [
       "1.33"
      ]
     },
     "execution_count": 5,
     "metadata": {},
     "output_type": "execute_result"
    }
   ],
   "source": [
    "abs(refrel)"
   ]
  },
  {
   "cell_type": "code",
   "execution_count": 6,
   "id": "e1f4fcd8",
   "metadata": {},
   "outputs": [
    {
     "data": {
      "text/plain": [
       "3.00450497416042"
      ]
     },
     "execution_count": 6,
     "metadata": {},
     "output_type": "execute_result"
    }
   ],
   "source": [
    "x = (2*pi*radius*10**-6)/(wavelength*10**-9)\n",
    "x"
   ]
  },
  {
   "cell_type": "code",
   "execution_count": 146,
   "id": "23a61ce4",
   "metadata": {},
   "outputs": [
    {
     "name": "stderr",
     "output_type": "stream",
     "text": [
      "/Users/user/Documents/Code/mie-simualtion-1/bhmie.py:82: ComplexWarning: Casting complex values to real discards the imaginary part\n",
      "  d[nn-n-1] = (en/y) - (1./ (d[nn-n]+en/y))\n"
     ]
    }
   ],
   "source": [
    "nang = 100\n",
    "# nang = number of angles between 0 and 90 degrees inculsive. \n",
    "# (will calculate 2*nang-1 directions from 0 to 180 deg.)\n",
    "# if called with nang<2, will set nang=2 and will compute\n",
    "# scattering for theta=0,90,180.\n",
    "out = bhmie(x,refrel,nang)"
   ]
  },
  {
   "cell_type": "code",
   "execution_count": 147,
   "id": "1838b766",
   "metadata": {},
   "outputs": [
    {
     "name": "stdout",
     "output_type": "stream",
     "text": [
      "1.7590918145340875 1.7590918148191308 0.0906659207577428 0.7836387284609981\n",
      "199\n"
     ]
    }
   ],
   "source": [
    "S1 = out[0]\n",
    "S2 = out[1]\n",
    "Qext = out[2]\n",
    "Qsca = out[3] \n",
    "Qback = out[4]\n",
    "gsca = out[5]\n",
    "print(Qext, Qsca, Qback, gsca)\n",
    "print(np.size(S1))"
   ]
  },
  {
   "cell_type": "code",
   "execution_count": 148,
   "id": "89cdd3a7",
   "metadata": {},
   "outputs": [],
   "source": [
    "def phaseFunction(S1, S2):\n",
    "    # unpolarised, S, P\n",
    "    return [\n",
    "        0.5*(abs(S1)**2+abs(S2)**2), # avg\n",
    "        abs(S2)**2, # S\n",
    "        abs(S1)**2 # P\n",
    "    ]\n",
    "phase = phaseFunction(S1, S2)"
   ]
  },
  {
   "cell_type": "code",
   "execution_count": 149,
   "id": "cd8863c4",
   "metadata": {},
   "outputs": [
    {
     "data": {
      "text/plain": [
       "array([  0.        ,   0.90909091,   1.81818182,   2.72727273,\n",
       "         3.63636364,   4.54545455,   5.45454545,   6.36363636,\n",
       "         7.27272727,   8.18181818,   9.09090909,  10.        ,\n",
       "        10.90909091,  11.81818182,  12.72727273,  13.63636364,\n",
       "        14.54545455,  15.45454545,  16.36363636,  17.27272727,\n",
       "        18.18181818,  19.09090909,  20.        ,  20.90909091,\n",
       "        21.81818182,  22.72727273,  23.63636364,  24.54545455,\n",
       "        25.45454545,  26.36363636,  27.27272727,  28.18181818,\n",
       "        29.09090909,  30.        ,  30.90909091,  31.81818182,\n",
       "        32.72727273,  33.63636364,  34.54545455,  35.45454545,\n",
       "        36.36363636,  37.27272727,  38.18181818,  39.09090909,\n",
       "        40.        ,  40.90909091,  41.81818182,  42.72727273,\n",
       "        43.63636364,  44.54545455,  45.45454545,  46.36363636,\n",
       "        47.27272727,  48.18181818,  49.09090909,  50.        ,\n",
       "        50.90909091,  51.81818182,  52.72727273,  53.63636364,\n",
       "        54.54545455,  55.45454545,  56.36363636,  57.27272727,\n",
       "        58.18181818,  59.09090909,  60.        ,  60.90909091,\n",
       "        61.81818182,  62.72727273,  63.63636364,  64.54545455,\n",
       "        65.45454545,  66.36363636,  67.27272727,  68.18181818,\n",
       "        69.09090909,  70.        ,  70.90909091,  71.81818182,\n",
       "        72.72727273,  73.63636364,  74.54545455,  75.45454545,\n",
       "        76.36363636,  77.27272727,  78.18181818,  79.09090909,\n",
       "        80.        ,  80.90909091,  81.81818182,  82.72727273,\n",
       "        83.63636364,  84.54545455,  85.45454545,  86.36363636,\n",
       "        87.27272727,  88.18181818,  89.09090909,  90.        ,\n",
       "        90.90909091,  91.81818182,  92.72727273,  93.63636364,\n",
       "        94.54545455,  95.45454545,  96.36363636,  97.27272727,\n",
       "        98.18181818,  99.09090909, 100.        , 100.90909091,\n",
       "       101.81818182, 102.72727273, 103.63636364, 104.54545455,\n",
       "       105.45454545, 106.36363636, 107.27272727, 108.18181818,\n",
       "       109.09090909, 110.        , 110.90909091, 111.81818182,\n",
       "       112.72727273, 113.63636364, 114.54545455, 115.45454545,\n",
       "       116.36363636, 117.27272727, 118.18181818, 119.09090909,\n",
       "       120.        , 120.90909091, 121.81818182, 122.72727273,\n",
       "       123.63636364, 124.54545455, 125.45454545, 126.36363636,\n",
       "       127.27272727, 128.18181818, 129.09090909, 130.        ,\n",
       "       130.90909091, 131.81818182, 132.72727273, 133.63636364,\n",
       "       134.54545455, 135.45454545, 136.36363636, 137.27272727,\n",
       "       138.18181818, 139.09090909, 140.        , 140.90909091,\n",
       "       141.81818182, 142.72727273, 143.63636364, 144.54545455,\n",
       "       145.45454545, 146.36363636, 147.27272727, 148.18181818,\n",
       "       149.09090909, 150.        , 150.90909091, 151.81818182,\n",
       "       152.72727273, 153.63636364, 154.54545455, 155.45454545,\n",
       "       156.36363636, 157.27272727, 158.18181818, 159.09090909,\n",
       "       160.        , 160.90909091, 161.81818182, 162.72727273,\n",
       "       163.63636364, 164.54545455, 165.45454545, 166.36363636,\n",
       "       167.27272727, 168.18181818, 169.09090909, 170.        ,\n",
       "       170.90909091, 171.81818182, 172.72727273, 173.63636364,\n",
       "       174.54545455, 175.45454545, 176.36363636, 177.27272727,\n",
       "       178.18181818, 179.09090909, 180.        ])"
      ]
     },
     "execution_count": 149,
     "metadata": {},
     "output_type": "execute_result"
    }
   ],
   "source": [
    "xdeg = np.linspace(0,180,2*nang-1) # 2*nang-1 angles between 0 and 180 inc.\n",
    "xdeg"
   ]
  },
  {
   "cell_type": "code",
   "execution_count": 173,
   "id": "40bddf82",
   "metadata": {},
   "outputs": [
    {
     "data": {
      "image/png": "[encoded data removed]",
      "text/plain": [
       "<Figure size 432x288 with 1 Axes>"
      ]
     },
     "metadata": {
      "needs_background": "light"
     },
     "output_type": "display_data"
    }
   ],
   "source": [
    "plt.yscale(\"log\")\n",
    "plt.plot(xdeg,phase[0],label='Unpolarised')\n",
    "plt.plot(xdeg,phase[1], label = 'S')\n",
    "plt.plot(xdeg,phase[2], label = 'P')\n",
    "plt.xlabel('degrees')\n",
    "plt.ylabel('unnormalised')\n",
    "plt.title('scattering irradiances \\n x = {0:.2f}, m = {1:.2f}'.format(x, refrel))\n",
    "plt.legend()\n",
    "plt.xticks(np.linspace(0,180,6+1))\n",
    "plt.show()"
   ]
  },
  {
   "cell_type": "code",
   "execution_count": 172,
   "id": "91291686",
   "metadata": {},
   "outputs": [
    {
     "data": {
      "text/plain": [
       "array([  0.,  30.,  60.,  90., 120., 150., 180.])"
      ]
     },
     "execution_count": 172,
     "metadata": {},
     "output_type": "execute_result"
    }
   ],
   "source": [
    "np.linspace(0,180,6+1)"
   ]
  },
  {
   "cell_type": "code",
   "execution_count": null,
   "id": "740e6fc3",
   "metadata": {},
   "outputs": [],
   "source": []
  }
 ],
 "metadata": {
  "kernelspec": {
   "display_name": "Python 3 (ipykernel)",
   "language": "python",
   "name": "python3"
  },
  "language_info": {
   "codemirror_mode": {
    "name": "ipython",
    "version": 3
   },
   "file_extension": ".py",
   "mimetype": "text/x-python",
   "name": "python",
   "nbconvert_exporter": "python",
   "pygments_lexer": "ipython3",
   "version": "3.9.12"
  }
 },
 "nbformat": 4,
 "nbformat_minor": 5
}
